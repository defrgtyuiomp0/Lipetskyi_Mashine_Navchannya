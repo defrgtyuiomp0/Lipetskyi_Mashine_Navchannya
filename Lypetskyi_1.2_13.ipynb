{
  "nbformat": 4,
  "nbformat_minor": 0,
  "metadata": {
    "colab": {
      "provenance": []
    },
    "kernelspec": {
      "name": "python3",
      "display_name": "Python 3"
    },
    "language_info": {
      "name": "python"
    }
  },
  "cells": [
    {
      "cell_type": "code",
      "execution_count": null,
      "metadata": {
        "id": "C_yAwbmkIJsY"
      },
      "outputs": [],
      "source": [
        "import numpy as np"
      ]
    },
    {
      "cell_type": "markdown",
      "source": [
        "**1. Задати вектор що складається з перших п'яти натуральних чисел**"
      ],
      "metadata": {
        "id": "ymNM836KIvRa"
      }
    },
    {
      "cell_type": "code",
      "source": [
        "vector = np.array([1, 2, 3, 4, 5])\n",
        "\n",
        "vector\n"
      ],
      "metadata": {
        "colab": {
          "base_uri": "https://localhost:8080/"
        },
        "id": "q2BO3blaIQ2o",
        "outputId": "77c61d7e-27ad-4fd4-971f-dee6b2342f78"
      },
      "execution_count": null,
      "outputs": [
        {
          "output_type": "execute_result",
          "data": {
            "text/plain": [
              "array([1, 2, 3, 4, 5])"
            ]
          },
          "metadata": {},
          "execution_count": 5
        }
      ]
    },
    {
      "cell_type": "markdown",
      "source": [
        "**2. Транспонувати вектор**"
      ],
      "metadata": {
        "id": "Hf10_WcuIgCV"
      }
    },
    {
      "cell_type": "code",
      "source": [
        "v1 = np.matrix([1, 2, 3, 4, 5])\n",
        "print(v1)\n",
        "v2=v1.T\n",
        "v2"
      ],
      "metadata": {
        "colab": {
          "base_uri": "https://localhost:8080/"
        },
        "id": "cBMs6sZ7IizM",
        "outputId": "be91cbea-04c0-4132-f4fd-0a0425aed397"
      },
      "execution_count": null,
      "outputs": [
        {
          "output_type": "stream",
          "name": "stdout",
          "text": [
            "[[1 2 3 4 5]]\n"
          ]
        },
        {
          "output_type": "execute_result",
          "data": {
            "text/plain": [
              "matrix([[1],\n",
              "        [2],\n",
              "        [3],\n",
              "        [4],\n",
              "        [5]])"
            ]
          },
          "metadata": {},
          "execution_count": 6
        }
      ]
    },
    {
      "cell_type": "markdown",
      "source": [
        "**3. Напишіть функцію, яка переверає вектор у зворотьтньому порядку**"
      ],
      "metadata": {
        "id": "k6xgXSe2JD5Z"
      }
    },
    {
      "cell_type": "code",
      "source": [
        "v = np.array([1, 2, 3, 4, 5])\n",
        "print(v[::1])"
      ],
      "metadata": {
        "colab": {
          "base_uri": "https://localhost:8080/"
        },
        "id": "3o2S_0YTJKmP",
        "outputId": "c2357606-4e3d-42f4-f648-9363a8d53eaf"
      },
      "execution_count": null,
      "outputs": [
        {
          "output_type": "stream",
          "name": "stdout",
          "text": [
            "[1 2 3 4 5]\n"
          ]
        }
      ]
    },
    {
      "cell_type": "code",
      "source": [
        "v = np.flip(v)\n",
        "print(v)"
      ],
      "metadata": {
        "colab": {
          "base_uri": "https://localhost:8080/"
        },
        "id": "c6t2LR96JY47",
        "outputId": "5eadd2f6-9a1e-4c7e-95dd-44ed126931ba"
      },
      "execution_count": null,
      "outputs": [
        {
          "output_type": "stream",
          "name": "stdout",
          "text": [
            "[5 4 3 2 1]\n"
          ]
        }
      ]
    },
    {
      "cell_type": "markdown",
      "source": [
        "**4. Обчислити середнє значення вектора**"
      ],
      "metadata": {
        "id": "GDyVcPW8JgpV"
      }
    },
    {
      "cell_type": "code",
      "source": [
        "print(np.mean(v))"
      ],
      "metadata": {
        "colab": {
          "base_uri": "https://localhost:8080/"
        },
        "id": "9mEZDObsJlLz",
        "outputId": "f575ea33-cc2c-457e-d6b0-aeedebefc2d3"
      },
      "execution_count": null,
      "outputs": [
        {
          "output_type": "stream",
          "name": "stdout",
          "text": [
            "3.0\n"
          ]
        }
      ]
    },
    {
      "cell_type": "markdown",
      "source": [
        "**5. Знайти найбільший і найменьшй елемент вектора**"
      ],
      "metadata": {
        "id": "0VBMaxDSKgKF"
      }
    },
    {
      "cell_type": "code",
      "source": [
        "print(np.max(v))\n",
        "print(np.min(v))"
      ],
      "metadata": {
        "colab": {
          "base_uri": "https://localhost:8080/"
        },
        "id": "8VcwxiBQKtXX",
        "outputId": "13a24a83-a62b-4a2f-b6a2-e6d07f092a31"
      },
      "execution_count": null,
      "outputs": [
        {
          "output_type": "stream",
          "name": "stdout",
          "text": [
            "5\n",
            "1\n"
          ]
        }
      ]
    },
    {
      "cell_type": "markdown",
      "source": [
        "**6. Обчислити скалчрний добуток двох векторів**"
      ],
      "metadata": {
        "id": "eQ6z19SAKne9"
      }
    },
    {
      "cell_type": "code",
      "source": [
        "v1 = np.array([1, 2, 3])\n",
        "v2 = np.array([4, 5, 6])\n",
        "dot1 = np.dot(v1, v2)\n",
        "print(\"Скалярний добуток:\", dot1)\n"
      ],
      "metadata": {
        "colab": {
          "base_uri": "https://localhost:8080/"
        },
        "id": "wLL_j_HOK2vP",
        "outputId": "1d520268-4465-493d-bee9-0cd5a26a289a"
      },
      "execution_count": null,
      "outputs": [
        {
          "output_type": "stream",
          "name": "stdout",
          "text": [
            "Скалярний добуток: 32\n"
          ]
        }
      ]
    },
    {
      "cell_type": "markdown",
      "source": [
        "**7. Напишыть функцію, яка нормалізує вектор**"
      ],
      "metadata": {
        "id": "d48c2U9zL1h8"
      }
    },
    {
      "cell_type": "code",
      "source": [
        "v = np.array([1, 2, 3, 4, 5])\n",
        "norm = np.linalg.norm(v)\n",
        "\n",
        "print (norm)\n",
        "\n",
        "v/norm"
      ],
      "metadata": {
        "colab": {
          "base_uri": "https://localhost:8080/"
        },
        "id": "KEhFs8xOMMx_",
        "outputId": "32d23d9b-9f48-43b5-94c2-02543db76fb3"
      },
      "execution_count": null,
      "outputs": [
        {
          "output_type": "stream",
          "name": "stdout",
          "text": [
            "7.416198487095663\n"
          ]
        },
        {
          "output_type": "execute_result",
          "data": {
            "text/plain": [
              "array([0.13483997, 0.26967994, 0.40451992, 0.53935989, 0.67419986])"
            ]
          },
          "metadata": {},
          "execution_count": 13
        }
      ]
    },
    {
      "cell_type": "markdown",
      "source": [
        "**8. Задайте вектори. Визначте, чи є вони ортогональними. Підказка: якщ скалрний добуток дорівнює 0, вектори ортогональні**"
      ],
      "metadata": {
        "id": "9-ewTXNKL1o3"
      }
    },
    {
      "cell_type": "code",
      "source": [
        "v1 = np.array([1, 0, 0])\n",
        "v2 = np.array([0, 1, 0])\n",
        "np.dot(v1, v2)\n",
        "\n",
        "np.int64(0)"
      ],
      "metadata": {
        "colab": {
          "base_uri": "https://localhost:8080/"
        },
        "id": "egtzttttMtll",
        "outputId": "9d0552b6-91b6-4305-9c33-aaf519348cd4"
      },
      "execution_count": null,
      "outputs": [
        {
          "output_type": "execute_result",
          "data": {
            "text/plain": [
              "np.int64(0)"
            ]
          },
          "metadata": {},
          "execution_count": 14
        }
      ]
    },
    {
      "cell_type": "markdown",
      "source": [
        "**9. Визначити унікальніц елементи вектора**"
      ],
      "metadata": {
        "id": "CwAReNRiM_cm"
      }
    },
    {
      "cell_type": "code",
      "source": [
        "v = np.array([1, 2, 3, 2, 4, 5, 3])\n",
        "np.unique(v)\n"
      ],
      "metadata": {
        "colab": {
          "base_uri": "https://localhost:8080/"
        },
        "id": "hW2Si9n4NC9A",
        "outputId": "7315a88f-05b4-4064-95f4-dd0cd9cf317d"
      },
      "execution_count": null,
      "outputs": [
        {
          "output_type": "execute_result",
          "data": {
            "text/plain": [
              "array([1, 2, 3, 4, 5])"
            ]
          },
          "metadata": {},
          "execution_count": 15
        }
      ]
    },
    {
      "cell_type": "markdown",
      "source": [
        "**10. Знайдли ветори**"
      ],
      "metadata": {
        "id": "FWRfqsV9NOpL"
      }
    },
    {
      "cell_type": "code",
      "source": [
        "v1 = np.array([1, 2, 3])\n",
        "v2 = np.array([4, 5, 6])\n",
        "\n",
        "print(v1-v2)\n",
        "print(v2-v1)\n",
        "print(v1+v2)\n",
        "print(v1+v2)\n",
        "print(v1*v2)\n",
        "print(v2*v1)\n",
        "print(v1/v2)\n",
        "print(v2/v1)\n",
        "\n"
      ],
      "metadata": {
        "colab": {
          "base_uri": "https://localhost:8080/"
        },
        "id": "r358ViOBNScf",
        "outputId": "767a1d4d-4fd9-4921-ee8f-0251a8060d45"
      },
      "execution_count": null,
      "outputs": [
        {
          "output_type": "stream",
          "name": "stdout",
          "text": [
            "[-3 -3 -3]\n",
            "[3 3 3]\n",
            "[5 7 9]\n",
            "[5 7 9]\n",
            "[ 4 10 18]\n",
            "[ 4 10 18]\n",
            "[0.25 0.4  0.5 ]\n",
            "[4.  2.5 2. ]\n"
          ]
        }
      ]
    },
    {
      "cell_type": "markdown",
      "source": [
        "**11. перевірити чи довжиина ветора дорівнює 5**"
      ],
      "metadata": {
        "id": "8-fwTL8tOK_U"
      }
    },
    {
      "cell_type": "code",
      "source": [
        "vector = np.array([1, 2, 3, 4, 5])\n",
        "length = np.linalg.norm(vector)\n",
        "np.isclose(length, 5)"
      ],
      "metadata": {
        "colab": {
          "base_uri": "https://localhost:8080/"
        },
        "id": "LA23s6agPUaa",
        "outputId": "b3be2a70-4302-4c90-f07d-073dfac315dd"
      },
      "execution_count": null,
      "outputs": [
        {
          "output_type": "execute_result",
          "data": {
            "text/plain": [
              "np.False_"
            ]
          },
          "metadata": {},
          "execution_count": 17
        }
      ]
    },
    {
      "cell_type": "markdown",
      "source": [
        "**12. Задати Матирю, заповнену випадковими числами**"
      ],
      "metadata": {
        "id": "kC-fvKs-PM7W"
      }
    },
    {
      "cell_type": "code",
      "source": [
        "a = np.random.randint(0, 11, (3, 3))\n",
        "a"
      ],
      "metadata": {
        "colab": {
          "base_uri": "https://localhost:8080/"
        },
        "id": "9_-c5WopPpbf",
        "outputId": "c8aab119-1b66-49bb-8ba4-8839f13d066a"
      },
      "execution_count": null,
      "outputs": [
        {
          "output_type": "execute_result",
          "data": {
            "text/plain": [
              "array([[8, 5, 7],\n",
              "       [6, 2, 8],\n",
              "       [8, 0, 4]])"
            ]
          },
          "metadata": {},
          "execution_count": 18
        }
      ]
    },
    {
      "cell_type": "markdown",
      "source": [
        "**13. Обчислити визначник матриці**"
      ],
      "metadata": {
        "id": "spGNVghmQcJ5"
      }
    },
    {
      "cell_type": "code",
      "source": [
        "np.linalg.det(a)\n"
      ],
      "metadata": {
        "colab": {
          "base_uri": "https://localhost:8080/"
        },
        "id": "G0g8jS71QkV1",
        "outputId": "ed5be898-d8a3-4cde-dc1f-2ed1e341f6f2"
      },
      "execution_count": null,
      "outputs": [
        {
          "output_type": "execute_result",
          "data": {
            "text/plain": [
              "np.float64(151.9999999999999)"
            ]
          },
          "metadata": {},
          "execution_count": 20
        }
      ]
    },
    {
      "cell_type": "markdown",
      "source": [
        "**14. Знаходження оберненої матриці**"
      ],
      "metadata": {
        "id": "5jzQh-7WQf66"
      }
    },
    {
      "cell_type": "code",
      "source": [
        "np.linalg.inv(a)"
      ],
      "metadata": {
        "colab": {
          "base_uri": "https://localhost:8080/"
        },
        "id": "BQUArBxcQpzc",
        "outputId": "f4ed35cc-5d50-4e06-b426-85fd14d01772"
      },
      "execution_count": null,
      "outputs": [
        {
          "output_type": "execute_result",
          "data": {
            "text/plain": [
              "array([[ 0.05263158, -0.13157895,  0.17105263],\n",
              "       [ 0.26315789, -0.15789474, -0.14473684],\n",
              "       [-0.10526316,  0.26315789, -0.09210526]])"
            ]
          },
          "metadata": {},
          "execution_count": 21
        }
      ]
    },
    {
      "cell_type": "markdown",
      "source": [
        "15. Розв'яжіть систему лінійних рівнянь А*х = b, де А- матриця коефіціентів, b - вектор вільн х чисел **текст жирним шрифтом**"
      ],
      "metadata": {
        "id": "AnaJaQKxQug5"
      }
    },
    {
      "cell_type": "code",
      "source": [
        "aq = np.array([[1, 3, -4], [0, 2, -3], [-2, 2, 5]])\n",
        "b = np.array([5, 3, 4])\n",
        "\n",
        "x = np.linalg.solve(a, b)\n",
        "print(x)\n",
        "\n",
        "inv_a = np.linalg.inv(a)\n",
        "x1 = inv_a.dot(b)\n",
        "print(x1)"
      ],
      "metadata": {
        "colab": {
          "base_uri": "https://localhost:8080/"
        },
        "id": "2T3yUpfHRAmg",
        "outputId": "3fbab2a1-aac7-4dbc-9c7d-e87c70b81ba5"
      },
      "execution_count": null,
      "outputs": [
        {
          "output_type": "stream",
          "name": "stdout",
          "text": [
            "[ 0.55263158  0.26315789 -0.10526316]\n",
            "[ 0.55263158  0.26315789 -0.10526316]\n"
          ]
        }
      ]
    },
    {
      "cell_type": "markdown",
      "source": [
        "**16. Множення двох матриць**"
      ],
      "metadata": {
        "id": "yjFaLCcFExZA"
      }
    },
    {
      "cell_type": "code",
      "source": [
        "a = np.array([[1, 3, -4], [0, 2, -3], [-2, 2, 5]])\n",
        "h = np.array([5, 3, 4])\n",
        "print(\"Множення матриць:\\n\", np.dot(a, h))"
      ],
      "metadata": {
        "colab": {
          "base_uri": "https://localhost:8080/"
        },
        "id": "jpPHV568Rpay",
        "outputId": "73c982df-372f-493e-8aea-f27af8a8720a"
      },
      "execution_count": null,
      "outputs": [
        {
          "output_type": "stream",
          "name": "stdout",
          "text": [
            "Множення матриць:\n",
            " [-2 -6 16]\n"
          ]
        }
      ]
    },
    {
      "cell_type": "code",
      "source": [
        "a = np.matrix([[1, 3, -4], [0, 2, -3]])\n",
        "h = np.matrix([[5, 3, 4], [2, 3, 5], [3, 2, 3]])\n",
        "print(a)\n",
        "print(b)\n",
        "print(np.dot(a, b))"
      ],
      "metadata": {
        "colab": {
          "base_uri": "https://localhost:8080/"
        },
        "id": "0MOohH46Sk50",
        "outputId": "09a475d7-6f19-4511-cfe7-eb0f289d5b35"
      },
      "execution_count": null,
      "outputs": [
        {
          "output_type": "stream",
          "name": "stdout",
          "text": [
            "[[ 1  3 -4]\n",
            " [ 0  2 -3]]\n",
            "[5 3 4]\n",
            "[[-2 -6]]\n"
          ]
        }
      ]
    },
    {
      "cell_type": "markdown",
      "source": [
        "**17. Транспонуванн матриці**"
      ],
      "metadata": {
        "id": "aAIvhbwNTFk-"
      }
    },
    {
      "cell_type": "code",
      "source": [
        "print(a.T)\n",
        "print(b.T)"
      ],
      "metadata": {
        "colab": {
          "base_uri": "https://localhost:8080/"
        },
        "id": "W1jwEarMTX_J",
        "outputId": "97f852cb-0c98-48e9-d999-4203bd88cd5e"
      },
      "execution_count": null,
      "outputs": [
        {
          "output_type": "stream",
          "name": "stdout",
          "text": [
            "[[ 1  0]\n",
            " [ 3  2]\n",
            " [-4 -3]]\n",
            "[5 3 4]\n"
          ]
        }
      ]
    },
    {
      "cell_type": "code",
      "source": [
        "print(np.transpose(a))\n",
        "print(np.transpose(b))"
      ],
      "metadata": {
        "colab": {
          "base_uri": "https://localhost:8080/"
        },
        "id": "GH1QHIb0Tegm",
        "outputId": "1137aca0-ed9c-41e5-828a-4093855975d5"
      },
      "execution_count": null,
      "outputs": [
        {
          "output_type": "stream",
          "name": "stdout",
          "text": [
            "[[ 1  0]\n",
            " [ 3  2]\n",
            " [-4 -3]]\n",
            "[5 3 4]\n"
          ]
        }
      ]
    },
    {
      "cell_type": "markdown",
      "source": [
        "**18. Перевірка симетричності матриці**"
      ],
      "metadata": {
        "id": "7QXTZVWUTjsl"
      }
    },
    {
      "cell_type": "code",
      "source": [
        "matrix = np.matrix([[2, 2, 2], [2, 2, 2], [2, 2, 2]])\n",
        "np. allclose(matrix, matrix.T)\n"
      ],
      "metadata": {
        "colab": {
          "base_uri": "https://localhost:8080/"
        },
        "id": "_dBmRJWwT-ZR",
        "outputId": "968465de-a112-4ed7-bf38-6582fdaedc21"
      },
      "execution_count": null,
      "outputs": [
        {
          "output_type": "execute_result",
          "data": {
            "text/plain": [
              "True"
            ]
          },
          "metadata": {},
          "execution_count": 27
        }
      ]
    },
    {
      "cell_type": "markdown",
      "source": [
        "**19. Обчислення сліду матриці**"
      ],
      "metadata": {
        "id": "GQKR7C5JT_CX"
      }
    },
    {
      "cell_type": "code",
      "source": [
        "np.trace(matrix)"
      ],
      "metadata": {
        "colab": {
          "base_uri": "https://localhost:8080/"
        },
        "id": "od-HniN6UBY4",
        "outputId": "d6b1b306-c0db-47e9-db01-ebf444c287a3"
      },
      "execution_count": null,
      "outputs": [
        {
          "output_type": "execute_result",
          "data": {
            "text/plain": [
              "np.int64(6)"
            ]
          },
          "metadata": {},
          "execution_count": 28
        }
      ]
    },
    {
      "cell_type": "markdown",
      "source": [
        "**20. Дії матриць**"
      ],
      "metadata": {
        "id": "Bc_ot-96UgzR"
      }
    },
    {
      "cell_type": "code",
      "source": [
        "a = np.matrix([[1, 2], [3, 4]])\n",
        "b = np.matrix([[5, 6], [7, 8]])\n",
        "\n",
        "print(np.add(a, b))\n",
        "print(np.subtract(a, b))\n",
        "print(np.multiply(a, b))\n",
        "print(np.divide(a, b))\n"
      ],
      "metadata": {
        "colab": {
          "base_uri": "https://localhost:8080/"
        },
        "id": "pbD4YH4zUinR",
        "outputId": "91a38681-5c63-47fe-b3e2-ab2146de72a2"
      },
      "execution_count": null,
      "outputs": [
        {
          "output_type": "stream",
          "name": "stdout",
          "text": [
            "[[ 6  8]\n",
            " [10 12]]\n",
            "[[-4 -4]\n",
            " [-4 -4]]\n",
            "[[ 5 12]\n",
            " [21 32]]\n",
            "[[0.2        0.33333333]\n",
            " [0.42857143 0.5       ]]\n"
          ]
        }
      ]
    },
    {
      "cell_type": "markdown",
      "source": [
        "**21. піднесення матриці до ступеня**"
      ],
      "metadata": {
        "id": "Ux1aR0uCVJr7"
      }
    },
    {
      "cell_type": "code",
      "source": [
        "a = np.matrix([[1, 2], [3, 4]])\n",
        "np.linalg.matrix_power(a, 2)\n"
      ],
      "metadata": {
        "colab": {
          "base_uri": "https://localhost:8080/"
        },
        "id": "_N4mzrJcVN7s",
        "outputId": "0619922c-c92f-47a2-f97f-5310fb0bbb95"
      },
      "execution_count": null,
      "outputs": [
        {
          "output_type": "execute_result",
          "data": {
            "text/plain": [
              "matrix([[ 7, 10],\n",
              "        [15, 22]])"
            ]
          },
          "metadata": {},
          "execution_count": 30
        }
      ]
    },
    {
      "cell_type": "markdown",
      "source": [
        "**22.Сортування рядків або стовпців матриці**"
      ],
      "metadata": {
        "id": "QpfVaTEPVjPK"
      }
    },
    {
      "cell_type": "code",
      "source": [
        "b = np.matrix([[5, 3, 4], [2, 3, 5], [3, 2, 3]])\n",
        "\n",
        "print(b)\n",
        "print(np.sort(b, axis = 0))\n",
        "print(np.sort(b, axis = 1))\n",
        "print(np.sort(b, axis = None))"
      ],
      "metadata": {
        "colab": {
          "base_uri": "https://localhost:8080/"
        },
        "id": "BDFQC9eFVoUo",
        "outputId": "36cb4dd5-5d1d-4fc5-f047-c87332ebdb9c"
      },
      "execution_count": null,
      "outputs": [
        {
          "output_type": "stream",
          "name": "stdout",
          "text": [
            "[[5 3 4]\n",
            " [2 3 5]\n",
            " [3 2 3]]\n",
            "[[2 2 3]\n",
            " [3 3 4]\n",
            " [5 3 5]]\n",
            "[[3 4 5]\n",
            " [2 3 5]\n",
            " [2 3 3]]\n",
            "[[2 2 3 3 3 3 4 5 5]]\n"
          ]
        }
      ]
    },
    {
      "cell_type": "code",
      "source": [
        "a = np.array([[1, 4], [3, 1]])\n",
        "print(a)\n",
        "print(np.sort(a))"
      ],
      "metadata": {
        "colab": {
          "base_uri": "https://localhost:8080/"
        },
        "id": "EsgyAU5IWCk1",
        "outputId": "bcec2f1f-40da-42c6-8e92-3aa3d1956680"
      },
      "execution_count": null,
      "outputs": [
        {
          "output_type": "stream",
          "name": "stdout",
          "text": [
            "[[1 4]\n",
            " [3 1]]\n",
            "[[1 4]\n",
            " [1 3]]\n"
          ]
        }
      ]
    },
    {
      "cell_type": "code",
      "source": [
        "print(np.sort(a, axis=0))\n",
        "print(np.sort(a, axis=1))"
      ],
      "metadata": {
        "colab": {
          "base_uri": "https://localhost:8080/"
        },
        "id": "WvB6Nj-mWNbG",
        "outputId": "60c06cc1-0352-45e4-d513-673e91ad2369"
      },
      "execution_count": null,
      "outputs": [
        {
          "output_type": "stream",
          "name": "stdout",
          "text": [
            "[[1 1]\n",
            " [3 4]]\n",
            "[[1 4]\n",
            " [1 3]]\n"
          ]
        }
      ]
    },
    {
      "cell_type": "markdown",
      "source": [
        "**23. Підрахувати суму елементів коожного рядка матриці. Відповідь запиши, Як вектор-стовпчики**"
      ],
      "metadata": {
        "id": "ZaEzr2pgWW18"
      }
    },
    {
      "cell_type": "code",
      "source": [
        "row_sums = np.sum(a, axis=1).reshape(-1,1)\n",
        "print(\"Сума елементів кожного рядка: \")\n",
        "print(row_sums)"
      ],
      "metadata": {
        "colab": {
          "base_uri": "https://localhost:8080/"
        },
        "id": "GQvo3ASJWhsV",
        "outputId": "aafb6e5b-8574-4e05-9cb3-0c93a37d6612"
      },
      "execution_count": null,
      "outputs": [
        {
          "output_type": "stream",
          "name": "stdout",
          "text": [
            "Сума елементів кожного рядка: \n",
            "[[5]\n",
            " [4]]\n"
          ]
        }
      ]
    }
  ]
}
